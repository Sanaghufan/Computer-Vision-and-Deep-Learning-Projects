{
  "nbformat": 4,
  "nbformat_minor": 0,
  "metadata": {
    "colab": {
      "provenance": [],
      "gpuType": "T4",
      "include_colab_link": true
    },
    "kernelspec": {
      "name": "python3",
      "display_name": "Python 3"
    },
    "language_info": {
      "name": "python"
    },
    "accelerator": "GPU"
  },
  "cells": [
    {
      "cell_type": "markdown",
      "metadata": {
        "id": "view-in-github",
        "colab_type": "text"
      },
      "source": [
        "<a href=\"https://colab.research.google.com/github/Sanaghufan/Computer-Vision-and-Deep-Learning-Projects/blob/main/SkinCancerDenseNet.ipynb\" target=\"_parent\"><img src=\"https://colab.research.google.com/assets/colab-badge.svg\" alt=\"Open In Colab\"/></a>"
      ]
    },
    {
      "cell_type": "code",
      "execution_count": null,
      "metadata": {
        "id": "uADIdUwGtlyS",
        "colab": {
          "base_uri": "https://localhost:8080/"
        },
        "outputId": "d4e1cfc2-1569-4ee7-f685-1ab8a30aa93a"
      },
      "outputs": [
        {
          "output_type": "stream",
          "name": "stdout",
          "text": [
            "skin-cancer9-classesisic.zip: Skipping, found more recently modified local copy (use --force to force download)\n"
          ]
        }
      ],
      "source": [
        "import os\n",
        "os.environ[\"KAGGLE_USERNAME\"] =\"sana206\"\n",
        "os.environ[\"KAGGLE_KEY\"] = \"7aa7b4eb5c12f3b5324507ef68ac0dc8\"\n",
        "!kaggle datasets download nodoubttome/skin-cancer9-classesisic"
      ]
    },
    {
      "cell_type": "code",
      "source": [
        "import cv2\n",
        "import os\n",
        "from PIL import Image\n",
        "import numpy as np\n",
        "import matplotlib.pyplot as plt\n",
        "import tensorflow as tf\n",
        "from tensorflow.keras.layers import Conv2D,MaxPool2D,Dense,Flatten,Dropout\n",
        "from tensorflow.keras.models import Sequential,Model\n",
        "from tensorflow.keras.preprocessing.image import ImageDataGenerator"
      ],
      "metadata": {
        "id": "LONOQ-yTtsv4"
      },
      "execution_count": null,
      "outputs": []
    },
    {
      "cell_type": "code",
      "source": [
        "from IPython.display import clear_output\n",
        "!unzip skin-cancer9-classesisic.zip\n",
        "clear_output()"
      ],
      "metadata": {
        "id": "DLNiPA2dtxJU"
      },
      "execution_count": null,
      "outputs": []
    },
    {
      "cell_type": "code",
      "source": [
        "train_path = \"dataset/Train\"\n",
        "test_path = \"dataset/Test\""
      ],
      "metadata": {
        "id": "VFqG_yXzt2tx"
      },
      "execution_count": null,
      "outputs": []
    },
    {
      "cell_type": "code",
      "source": [
        "class_names = os.listdir(train_path)\n",
        "class_names"
      ],
      "metadata": {
        "id": "q1yj-d0it6bv",
        "colab": {
          "base_uri": "https://localhost:8080/"
        },
        "outputId": "81047eba-dfb9-4043-b740-275f5eb48516"
      },
      "execution_count": null,
      "outputs": [
        {
          "output_type": "execute_result",
          "data": {
            "text/plain": [
              "['pigmented benign keratosis',\n",
              " 'melanoma',\n",
              " 'actinic keratosis',\n",
              " 'nevus',\n",
              " 'basal cell carcinoma',\n",
              " 'squamous cell carcinoma',\n",
              " 'dermatofibroma',\n",
              " 'seborrheic keratosis',\n",
              " 'vascular lesion']"
            ]
          },
          "metadata": {},
          "execution_count": 8
        }
      ]
    },
    {
      "cell_type": "code",
      "source": [
        "# Pre-processing of images\n",
        "image_data_gen = ImageDataGenerator(horizontal_flip=True,\n",
        "                                    rescale=1/255.\n",
        "\n",
        "                                    )"
      ],
      "metadata": {
        "id": "sNibUFpguClG"
      },
      "execution_count": null,
      "outputs": []
    },
    {
      "cell_type": "code",
      "source": [
        "X_train = image_data_gen.flow_from_directory(train_path, target_size=(224,224), batch_size=32, class_mode=\"sparse\")"
      ],
      "metadata": {
        "id": "ft6FNQhbuHek",
        "colab": {
          "base_uri": "https://localhost:8080/"
        },
        "outputId": "e985c4ec-3615-4c34-d2a8-232ea4c12343"
      },
      "execution_count": null,
      "outputs": [
        {
          "output_type": "stream",
          "name": "stdout",
          "text": [
            "Found 2239 images belonging to 9 classes.\n"
          ]
        }
      ]
    },
    {
      "cell_type": "code",
      "source": [
        "X_val = image_data_gen.flow_from_directory(test_path, target_size=(224,224), batch_size=32, class_mode=\"sparse\")"
      ],
      "metadata": {
        "id": "-lg2eGlAuLQ-",
        "colab": {
          "base_uri": "https://localhost:8080/"
        },
        "outputId": "77df9efe-11e4-4c99-b94f-7a266661b800"
      },
      "execution_count": null,
      "outputs": [
        {
          "output_type": "stream",
          "name": "stdout",
          "text": [
            "Found 118 images belonging to 9 classes.\n"
          ]
        }
      ]
    },
    {
      "cell_type": "code",
      "source": [
        "'''x_train_mean = np.mean(X_train)\n",
        "x_train_std = np.std(X_train)\n",
        "x_test_mean = np.mean(X_val)\n",
        "x_test_std = np.std(X_val)\n",
        "\n",
        "X_train = (X_train - x_train_mean)/x_train_std\n",
        "X_val = (X_val - x_test_mean)/x_test_std'''"
      ],
      "metadata": {
        "id": "A2y4WvMXvFad",
        "colab": {
          "base_uri": "https://localhost:8080/",
          "height": 53
        },
        "outputId": "ecb6d2d4-c43d-410b-9357-d5f16f8424d4"
      },
      "execution_count": null,
      "outputs": [
        {
          "output_type": "execute_result",
          "data": {
            "text/plain": [
              "'x_train_mean = np.mean(X_train)\\nx_train_std = np.std(X_train)\\nx_test_mean = np.mean(X_val)\\nx_test_std = np.std(X_val)\\n\\nX_train = (X_train - x_train_mean)/x_train_std\\nX_val = (X_val - x_test_mean)/x_test_std'"
            ],
            "application/vnd.google.colaboratory.intrinsic+json": {
              "type": "string"
            }
          },
          "metadata": {},
          "execution_count": 12
        }
      ]
    },
    {
      "cell_type": "code",
      "source": [
        "from tensorflow.keras.applications.resnet import preprocess_input as resnet_preprocess_input\n",
        "from tensorflow.keras.applications import DenseNet201\n",
        "from tensorflow.keras.models import Sequential\n",
        "from tensorflow.keras.layers import Dense, Flatten, Dropout\n",
        "\n",
        "# DenseNet201\n",
        "model = Sequential()\n",
        "model.add(DenseNet201(include_top=False, weights='imagenet', input_shape=(224,224,3)))\n",
        "model.add(Flatten())\n",
        "model.add(Dropout(0.5))  # Add a Dropout layer with a dropout rate of 0.5\n",
        "model.add(Dense(512, activation='relu'))\n",
        "model.add(Dense(9, activation='softmax'))\n",
        "model.summary()"
      ],
      "metadata": {
        "id": "8qs4q5Zsvxhd",
        "colab": {
          "base_uri": "https://localhost:8080/"
        },
        "outputId": "7804dae6-2986-4224-bbdd-e4d4909557f8"
      },
      "execution_count": null,
      "outputs": [
        {
          "output_type": "stream",
          "name": "stdout",
          "text": [
            "Downloading data from https://storage.googleapis.com/tensorflow/keras-applications/densenet/densenet201_weights_tf_dim_ordering_tf_kernels_notop.h5\n",
            "74836368/74836368 [==============================] - 4s 0us/step\n",
            "Model: \"sequential\"\n",
            "_________________________________________________________________\n",
            " Layer (type)                Output Shape              Param #   \n",
            "=================================================================\n",
            " densenet201 (Functional)    (None, 7, 7, 1920)        18321984  \n",
            "                                                                 \n",
            " flatten (Flatten)           (None, 94080)             0         \n",
            "                                                                 \n",
            " dropout (Dropout)           (None, 94080)             0         \n",
            "                                                                 \n",
            " dense (Dense)               (None, 512)               48169472  \n",
            "                                                                 \n",
            " dense_1 (Dense)             (None, 9)                 4617      \n",
            "                                                                 \n",
            "=================================================================\n",
            "Total params: 66,496,073\n",
            "Trainable params: 66,267,017\n",
            "Non-trainable params: 229,056\n",
            "_________________________________________________________________\n"
          ]
        }
      ]
    },
    {
      "cell_type": "code",
      "source": [
        "# compile model\n",
        "from keras.optimizers import SGD\n",
        "from keras.callbacks import ReduceLROnPlateau\n",
        "opt = SGD(learning_rate=0.001, momentum=0.9)\n",
        "model.compile(optimizer=opt, loss=tf.keras.losses.SparseCategoricalCrossentropy(), metrics=['accuracy'])\n",
        "\n",
        "\n",
        "# Set a learning rate annealer\n",
        "learning_rate_reduction = ReduceLROnPlateau(monitor='val_acc',\n",
        "                                            patience=3,\n",
        "                                            verbose=1,\n",
        "                                            factor=0.05,\n",
        "                                            min_lr=0.00001)"
      ],
      "metadata": {
        "id": "aPz4_M8Sv8pI"
      },
      "execution_count": null,
      "outputs": []
    },
    {
      "cell_type": "code",
      "source": [
        "# Fit the model\n",
        "epochs = 100\n",
        "batch_size=32\n",
        "history = model.fit(X_train,epochs=epochs,batch_size=batch_size,validation_data=X_val,callbacks=learning_rate_reduction)"
      ],
      "metadata": {
        "id": "-bG-xyfHv_qv",
        "colab": {
          "base_uri": "https://localhost:8080/"
        },
        "outputId": "f09917e7-425e-414b-a0ac-8ded487ec3da"
      },
      "execution_count": null,
      "outputs": [
        {
          "metadata": {
            "tags": null
          },
          "name": "stdout",
          "output_type": "stream",
          "text": [
            "Epoch 1/100\n",
            "70/70 [==============================] - ETA: 0s - loss: 1.6841 - accuracy: 0.4855"
          ]
        },
        {
          "metadata": {
            "tags": null
          },
          "name": "stderr",
          "output_type": "stream",
          "text": [
            "WARNING:tensorflow:Learning rate reduction is conditioned on metric `val_acc` which is not available. Available metrics are: loss,accuracy,val_loss,val_accuracy,lr\n"
          ]
        },
        {
          "metadata": {
            "tags": null
          },
          "name": "stdout",
          "output_type": "stream",
          "text": [
            "70/70 [==============================] - 124s 1s/step - loss: 1.6841 - accuracy: 0.4855 - val_loss: 2.4951 - val_accuracy: 0.2288 - lr: 0.0010\n",
            "Epoch 2/100\n",
            "70/70 [==============================] - ETA: 0s - loss: 0.8168 - accuracy: 0.7124"
          ]
        },
        {
          "metadata": {
            "tags": null
          },
          "name": "stderr",
          "output_type": "stream",
          "text": [
            "WARNING:tensorflow:Learning rate reduction is conditioned on metric `val_acc` which is not available. Available metrics are: loss,accuracy,val_loss,val_accuracy,lr\n"
          ]
        },
        {
          "metadata": {
            "tags": null
          },
          "name": "stdout",
          "output_type": "stream",
          "text": [
            "70/70 [==============================] - 63s 889ms/step - loss: 0.8168 - accuracy: 0.7124 - val_loss: 2.6069 - val_accuracy: 0.3051 - lr: 0.0010\n",
            "Epoch 3/100\n",
            "70/70 [==============================] - ETA: 0s - loss: 0.6254 - accuracy: 0.7686"
          ]
        },
        {
          "metadata": {
            "tags": null
          },
          "name": "stderr",
          "output_type": "stream",
          "text": [
            "WARNING:tensorflow:Learning rate reduction is conditioned on metric `val_acc` which is not available. Available metrics are: loss,accuracy,val_loss,val_accuracy,lr\n"
          ]
        },
        {
          "metadata": {
            "tags": null
          },
          "name": "stdout",
          "output_type": "stream",
          "text": [
            "70/70 [==============================] - 63s 898ms/step - loss: 0.6254 - accuracy: 0.7686 - val_loss: 2.8807 - val_accuracy: 0.3644 - lr: 0.0010\n",
            "Epoch 4/100\n",
            "70/70 [==============================] - ETA: 0s - loss: 0.4469 - accuracy: 0.8361"
          ]
        },
        {
          "metadata": {
            "tags": null
          },
          "name": "stderr",
          "output_type": "stream",
          "text": [
            "WARNING:tensorflow:Learning rate reduction is conditioned on metric `val_acc` which is not available. Available metrics are: loss,accuracy,val_loss,val_accuracy,lr\n"
          ]
        },
        {
          "metadata": {
            "tags": null
          },
          "name": "stdout",
          "output_type": "stream",
          "text": [
            "70/70 [==============================] - 63s 899ms/step - loss: 0.4469 - accuracy: 0.8361 - val_loss: 3.6385 - val_accuracy: 0.3644 - lr: 0.0010\n",
            "Epoch 5/100\n",
            "70/70 [==============================] - ETA: 0s - loss: 0.3722 - accuracy: 0.8571"
          ]
        },
        {
          "metadata": {
            "tags": null
          },
          "name": "stderr",
          "output_type": "stream",
          "text": [
            "WARNING:tensorflow:Learning rate reduction is conditioned on metric `val_acc` which is not available. Available metrics are: loss,accuracy,val_loss,val_accuracy,lr\n"
          ]
        },
        {
          "metadata": {
            "tags": null
          },
          "name": "stdout",
          "output_type": "stream",
          "text": [
            "70/70 [==============================] - 63s 891ms/step - loss: 0.3722 - accuracy: 0.8571 - val_loss: 2.2531 - val_accuracy: 0.5254 - lr: 0.0010\n",
            "Epoch 6/100\n",
            "70/70 [==============================] - ETA: 0s - loss: 0.2695 - accuracy: 0.8852"
          ]
        },
        {
          "metadata": {
            "tags": null
          },
          "name": "stderr",
          "output_type": "stream",
          "text": [
            "WARNING:tensorflow:Learning rate reduction is conditioned on metric `val_acc` which is not available. Available metrics are: loss,accuracy,val_loss,val_accuracy,lr\n"
          ]
        },
        {
          "metadata": {
            "tags": null
          },
          "name": "stdout",
          "output_type": "stream",
          "text": [
            "70/70 [==============================] - 63s 889ms/step - loss: 0.2695 - accuracy: 0.8852 - val_loss: 2.5754 - val_accuracy: 0.4322 - lr: 0.0010\n",
            "Epoch 7/100\n",
            "70/70 [==============================] - ETA: 0s - loss: 0.2353 - accuracy: 0.9022"
          ]
        },
        {
          "metadata": {
            "tags": null
          },
          "name": "stderr",
          "output_type": "stream",
          "text": [
            "WARNING:tensorflow:Learning rate reduction is conditioned on metric `val_acc` which is not available. Available metrics are: loss,accuracy,val_loss,val_accuracy,lr\n"
          ]
        },
        {
          "metadata": {
            "tags": null
          },
          "name": "stdout",
          "output_type": "stream",
          "text": [
            "70/70 [==============================] - 61s 873ms/step - loss: 0.2353 - accuracy: 0.9022 - val_loss: 2.4368 - val_accuracy: 0.4746 - lr: 0.0010\n",
            "Epoch 8/100\n",
            "70/70 [==============================] - ETA: 0s - loss: 0.2078 - accuracy: 0.9031"
          ]
        },
        {
          "metadata": {
            "tags": null
          },
          "name": "stderr",
          "output_type": "stream",
          "text": [
            "WARNING:tensorflow:Learning rate reduction is conditioned on metric `val_acc` which is not available. Available metrics are: loss,accuracy,val_loss,val_accuracy,lr\n"
          ]
        },
        {
          "metadata": {
            "tags": null
          },
          "name": "stdout",
          "output_type": "stream",
          "text": [
            "70/70 [==============================] - 62s 873ms/step - loss: 0.2078 - accuracy: 0.9031 - val_loss: 3.1557 - val_accuracy: 0.4746 - lr: 0.0010\n",
            "Epoch 9/100\n",
            "70/70 [==============================] - ETA: 0s - loss: 0.2305 - accuracy: 0.8986"
          ]
        },
        {
          "metadata": {
            "tags": null
          },
          "name": "stderr",
          "output_type": "stream",
          "text": [
            "WARNING:tensorflow:Learning rate reduction is conditioned on metric `val_acc` which is not available. Available metrics are: loss,accuracy,val_loss,val_accuracy,lr\n"
          ]
        },
        {
          "metadata": {
            "tags": null
          },
          "name": "stdout",
          "output_type": "stream",
          "text": [
            "70/70 [==============================] - 61s 863ms/step - loss: 0.2305 - accuracy: 0.8986 - val_loss: 3.5962 - val_accuracy: 0.4407 - lr: 0.0010\n",
            "Epoch 10/100\n",
            "70/70 [==============================] - ETA: 0s - loss: 0.2194 - accuracy: 0.9031"
          ]
        },
        {
          "metadata": {
            "tags": null
          },
          "name": "stderr",
          "output_type": "stream",
          "text": [
            "WARNING:tensorflow:Learning rate reduction is conditioned on metric `val_acc` which is not available. Available metrics are: loss,accuracy,val_loss,val_accuracy,lr\n"
          ]
        },
        {
          "metadata": {
            "tags": null
          },
          "name": "stdout",
          "output_type": "stream",
          "text": [
            "70/70 [==============================] - 61s 869ms/step - loss: 0.2194 - accuracy: 0.9031 - val_loss: 3.3076 - val_accuracy: 0.4576 - lr: 0.0010\n",
            "Epoch 11/100\n",
            "70/70 [==============================] - ETA: 0s - loss: 0.1878 - accuracy: 0.9058"
          ]
        },
        {
          "metadata": {
            "tags": null
          },
          "name": "stderr",
          "output_type": "stream",
          "text": [
            "WARNING:tensorflow:Learning rate reduction is conditioned on metric `val_acc` which is not available. Available metrics are: loss,accuracy,val_loss,val_accuracy,lr\n"
          ]
        },
        {
          "metadata": {
            "tags": null
          },
          "name": "stdout",
          "output_type": "stream",
          "text": [
            "70/70 [==============================] - 61s 874ms/step - loss: 0.1878 - accuracy: 0.9058 - val_loss: 2.8684 - val_accuracy: 0.4831 - lr: 0.0010\n",
            "Epoch 12/100\n",
            "70/70 [==============================] - ETA: 0s - loss: 0.1727 - accuracy: 0.9125"
          ]
        },
        {
          "metadata": {
            "tags": null
          },
          "name": "stderr",
          "output_type": "stream",
          "text": [
            "WARNING:tensorflow:Learning rate reduction is conditioned on metric `val_acc` which is not available. Available metrics are: loss,accuracy,val_loss,val_accuracy,lr\n"
          ]
        },
        {
          "metadata": {
            "tags": null
          },
          "name": "stdout",
          "output_type": "stream",
          "text": [
            "70/70 [==============================] - 62s 889ms/step - loss: 0.1727 - accuracy: 0.9125 - val_loss: 3.0257 - val_accuracy: 0.4661 - lr: 0.0010\n",
            "Epoch 13/100\n",
            "70/70 [==============================] - ETA: 0s - loss: 0.1670 - accuracy: 0.9129"
          ]
        },
        {
          "metadata": {
            "tags": null
          },
          "name": "stderr",
          "output_type": "stream",
          "text": [
            "WARNING:tensorflow:Learning rate reduction is conditioned on metric `val_acc` which is not available. Available metrics are: loss,accuracy,val_loss,val_accuracy,lr\n"
          ]
        },
        {
          "metadata": {
            "tags": null
          },
          "name": "stdout",
          "output_type": "stream",
          "text": [
            "70/70 [==============================] - 62s 878ms/step - loss: 0.1670 - accuracy: 0.9129 - val_loss: 3.7186 - val_accuracy: 0.4661 - lr: 0.0010\n",
            "Epoch 14/100\n",
            "70/70 [==============================] - ETA: 0s - loss: 0.1664 - accuracy: 0.9187"
          ]
        },
        {
          "metadata": {
            "tags": null
          },
          "name": "stderr",
          "output_type": "stream",
          "text": [
            "WARNING:tensorflow:Learning rate reduction is conditioned on metric `val_acc` which is not available. Available metrics are: loss,accuracy,val_loss,val_accuracy,lr\n"
          ]
        },
        {
          "metadata": {
            "tags": null
          },
          "name": "stdout",
          "output_type": "stream",
          "text": [
            "70/70 [==============================] - 61s 869ms/step - loss: 0.1664 - accuracy: 0.9187 - val_loss: 3.1945 - val_accuracy: 0.4492 - lr: 0.0010\n",
            "Epoch 15/100\n",
            "70/70 [==============================] - ETA: 0s - loss: 0.1378 - accuracy: 0.9308"
          ]
        },
        {
          "metadata": {
            "tags": null
          },
          "name": "stderr",
          "output_type": "stream",
          "text": [
            "WARNING:tensorflow:Learning rate reduction is conditioned on metric `val_acc` which is not available. Available metrics are: loss,accuracy,val_loss,val_accuracy,lr\n"
          ]
        },
        {
          "metadata": {
            "tags": null
          },
          "name": "stdout",
          "output_type": "stream",
          "text": [
            "70/70 [==============================] - 61s 862ms/step - loss: 0.1378 - accuracy: 0.9308 - val_loss: 3.2794 - val_accuracy: 0.4915 - lr: 0.0010\n",
            "Epoch 16/100\n",
            "70/70 [==============================] - ETA: 0s - loss: 0.1305 - accuracy: 0.9268"
          ]
        },
        {
          "metadata": {
            "tags": null
          },
          "name": "stderr",
          "output_type": "stream",
          "text": [
            "WARNING:tensorflow:Learning rate reduction is conditioned on metric `val_acc` which is not available. Available metrics are: loss,accuracy,val_loss,val_accuracy,lr\n"
          ]
        },
        {
          "metadata": {
            "tags": null
          },
          "name": "stdout",
          "output_type": "stream",
          "text": [
            "70/70 [==============================] - 60s 861ms/step - loss: 0.1305 - accuracy: 0.9268 - val_loss: 4.2338 - val_accuracy: 0.4746 - lr: 0.0010\n",
            "Epoch 17/100\n",
            "70/70 [==============================] - ETA: 0s - loss: 0.1466 - accuracy: 0.9223"
          ]
        },
        {
          "metadata": {
            "tags": null
          },
          "name": "stderr",
          "output_type": "stream",
          "text": [
            "WARNING:tensorflow:Learning rate reduction is conditioned on metric `val_acc` which is not available. Available metrics are: loss,accuracy,val_loss,val_accuracy,lr\n"
          ]
        },
        {
          "metadata": {
            "tags": null
          },
          "name": "stdout",
          "output_type": "stream",
          "text": [
            "70/70 [==============================] - 61s 868ms/step - loss: 0.1466 - accuracy: 0.9223 - val_loss: 4.2538 - val_accuracy: 0.4915 - lr: 0.0010\n",
            "Epoch 18/100\n",
            "70/70 [==============================] - ETA: 0s - loss: 0.1314 - accuracy: 0.9285"
          ]
        },
        {
          "metadata": {
            "tags": null
          },
          "name": "stderr",
          "output_type": "stream",
          "text": [
            "WARNING:tensorflow:Learning rate reduction is conditioned on metric `val_acc` which is not available. Available metrics are: loss,accuracy,val_loss,val_accuracy,lr\n"
          ]
        },
        {
          "metadata": {
            "tags": null
          },
          "name": "stdout",
          "output_type": "stream",
          "text": [
            "70/70 [==============================] - 62s 881ms/step - loss: 0.1314 - accuracy: 0.9285 - val_loss: 4.2234 - val_accuracy: 0.4831 - lr: 0.0010\n",
            "Epoch 19/100\n",
            "70/70 [==============================] - ETA: 0s - loss: 0.1325 - accuracy: 0.9241"
          ]
        },
        {
          "metadata": {
            "tags": null
          },
          "name": "stderr",
          "output_type": "stream",
          "text": [
            "WARNING:tensorflow:Learning rate reduction is conditioned on metric `val_acc` which is not available. Available metrics are: loss,accuracy,val_loss,val_accuracy,lr\n"
          ]
        },
        {
          "metadata": {
            "tags": null
          },
          "name": "stdout",
          "output_type": "stream",
          "text": [
            "70/70 [==============================] - 61s 875ms/step - loss: 0.1325 - accuracy: 0.9241 - val_loss: 4.1559 - val_accuracy: 0.5000 - lr: 0.0010\n",
            "Epoch 20/100\n",
            "70/70 [==============================] - ETA: 0s - loss: 0.1280 - accuracy: 0.9254"
          ]
        },
        {
          "metadata": {
            "tags": null
          },
          "name": "stderr",
          "output_type": "stream",
          "text": [
            "WARNING:tensorflow:Learning rate reduction is conditioned on metric `val_acc` which is not available. Available metrics are: loss,accuracy,val_loss,val_accuracy,lr\n"
          ]
        },
        {
          "metadata": {
            "tags": null
          },
          "name": "stdout",
          "output_type": "stream",
          "text": [
            "70/70 [==============================] - 61s 876ms/step - loss: 0.1280 - accuracy: 0.9254 - val_loss: 4.5201 - val_accuracy: 0.4661 - lr: 0.0010\n",
            "Epoch 21/100\n",
            "70/70 [==============================] - ETA: 0s - loss: 0.1149 - accuracy: 0.9308"
          ]
        },
        {
          "metadata": {
            "tags": null
          },
          "name": "stderr",
          "output_type": "stream",
          "text": [
            "WARNING:tensorflow:Learning rate reduction is conditioned on metric `val_acc` which is not available. Available metrics are: loss,accuracy,val_loss,val_accuracy,lr\n"
          ]
        },
        {
          "metadata": {
            "tags": null
          },
          "name": "stdout",
          "output_type": "stream",
          "text": [
            "70/70 [==============================] - 61s 870ms/step - loss: 0.1149 - accuracy: 0.9308 - val_loss: 4.1024 - val_accuracy: 0.4661 - lr: 0.0010\n",
            "Epoch 22/100\n",
            "70/70 [==============================] - ETA: 0s - loss: 0.1137 - accuracy: 0.9276"
          ]
        },
        {
          "metadata": {
            "tags": null
          },
          "name": "stderr",
          "output_type": "stream",
          "text": [
            "WARNING:tensorflow:Learning rate reduction is conditioned on metric `val_acc` which is not available. Available metrics are: loss,accuracy,val_loss,val_accuracy,lr\n"
          ]
        },
        {
          "metadata": {
            "tags": null
          },
          "name": "stdout",
          "output_type": "stream",
          "text": [
            "70/70 [==============================] - 61s 865ms/step - loss: 0.1137 - accuracy: 0.9276 - val_loss: 3.4099 - val_accuracy: 0.4831 - lr: 0.0010\n",
            "Epoch 23/100\n",
            "70/70 [==============================] - ETA: 0s - loss: 0.1266 - accuracy: 0.9308"
          ]
        },
        {
          "metadata": {
            "tags": null
          },
          "name": "stderr",
          "output_type": "stream",
          "text": [
            "WARNING:tensorflow:Learning rate reduction is conditioned on metric `val_acc` which is not available. Available metrics are: loss,accuracy,val_loss,val_accuracy,lr\n"
          ]
        },
        {
          "metadata": {
            "tags": null
          },
          "name": "stdout",
          "output_type": "stream",
          "text": [
            "70/70 [==============================] - 62s 885ms/step - loss: 0.1266 - accuracy: 0.9308 - val_loss: 3.0610 - val_accuracy: 0.4576 - lr: 0.0010\n",
            "Epoch 24/100\n",
            "70/70 [==============================] - ETA: 0s - loss: 0.1132 - accuracy: 0.9326"
          ]
        },
        {
          "metadata": {
            "tags": null
          },
          "name": "stderr",
          "output_type": "stream",
          "text": [
            "WARNING:tensorflow:Learning rate reduction is conditioned on metric `val_acc` which is not available. Available metrics are: loss,accuracy,val_loss,val_accuracy,lr\n"
          ]
        },
        {
          "metadata": {
            "tags": null
          },
          "name": "stdout",
          "output_type": "stream",
          "text": [
            "70/70 [==============================] - 61s 867ms/step - loss: 0.1132 - accuracy: 0.9326 - val_loss: 4.0528 - val_accuracy: 0.4831 - lr: 0.0010\n",
            "Epoch 25/100\n",
            "70/70 [==============================] - ETA: 0s - loss: 0.1419 - accuracy: 0.9165"
          ]
        },
        {
          "metadata": {
            "tags": null
          },
          "name": "stderr",
          "output_type": "stream",
          "text": [
            "WARNING:tensorflow:Learning rate reduction is conditioned on metric `val_acc` which is not available. Available metrics are: loss,accuracy,val_loss,val_accuracy,lr\n"
          ]
        },
        {
          "metadata": {
            "tags": null
          },
          "name": "stdout",
          "output_type": "stream",
          "text": [
            "70/70 [==============================] - 61s 860ms/step - loss: 0.1419 - accuracy: 0.9165 - val_loss: 3.9605 - val_accuracy: 0.4576 - lr: 0.0010\n",
            "Epoch 26/100\n",
            "70/70 [==============================] - ETA: 0s - loss: 0.1313 - accuracy: 0.9201"
          ]
        },
        {
          "metadata": {
            "tags": null
          },
          "name": "stderr",
          "output_type": "stream",
          "text": [
            "WARNING:tensorflow:Learning rate reduction is conditioned on metric `val_acc` which is not available. Available metrics are: loss,accuracy,val_loss,val_accuracy,lr\n"
          ]
        },
        {
          "metadata": {
            "tags": null
          },
          "name": "stdout",
          "output_type": "stream",
          "text": [
            "70/70 [==============================] - 61s 862ms/step - loss: 0.1313 - accuracy: 0.9201 - val_loss: 3.4222 - val_accuracy: 0.4831 - lr: 0.0010\n",
            "Epoch 27/100\n",
            "70/70 [==============================] - ETA: 0s - loss: 0.1177 - accuracy: 0.9290"
          ]
        },
        {
          "metadata": {
            "tags": null
          },
          "name": "stderr",
          "output_type": "stream",
          "text": [
            "WARNING:tensorflow:Learning rate reduction is conditioned on metric `val_acc` which is not available. Available metrics are: loss,accuracy,val_loss,val_accuracy,lr\n"
          ]
        },
        {
          "metadata": {
            "tags": null
          },
          "name": "stdout",
          "output_type": "stream",
          "text": [
            "70/70 [==============================] - 61s 873ms/step - loss: 0.1177 - accuracy: 0.9290 - val_loss: 3.1935 - val_accuracy: 0.5085 - lr: 0.0010\n",
            "Epoch 28/100\n",
            "70/70 [==============================] - ETA: 0s - loss: 0.1099 - accuracy: 0.9317"
          ]
        },
        {
          "metadata": {
            "tags": null
          },
          "name": "stderr",
          "output_type": "stream",
          "text": [
            "WARNING:tensorflow:Learning rate reduction is conditioned on metric `val_acc` which is not available. Available metrics are: loss,accuracy,val_loss,val_accuracy,lr\n"
          ]
        },
        {
          "metadata": {
            "tags": null
          },
          "name": "stdout",
          "output_type": "stream",
          "text": [
            "70/70 [==============================] - 60s 859ms/step - loss: 0.1099 - accuracy: 0.9317 - val_loss: 3.8545 - val_accuracy: 0.4576 - lr: 0.0010\n",
            "Epoch 29/100\n",
            "70/70 [==============================] - ETA: 0s - loss: 0.1055 - accuracy: 0.9272"
          ]
        },
        {
          "metadata": {
            "tags": null
          },
          "name": "stderr",
          "output_type": "stream",
          "text": [
            "WARNING:tensorflow:Learning rate reduction is conditioned on metric `val_acc` which is not available. Available metrics are: loss,accuracy,val_loss,val_accuracy,lr\n"
          ]
        },
        {
          "metadata": {
            "tags": null
          },
          "name": "stdout",
          "output_type": "stream",
          "text": [
            "70/70 [==============================] - 62s 878ms/step - loss: 0.1055 - accuracy: 0.9272 - val_loss: 3.4004 - val_accuracy: 0.5000 - lr: 0.0010\n",
            "Epoch 30/100\n",
            "70/70 [==============================] - ETA: 0s - loss: 0.1013 - accuracy: 0.9352"
          ]
        },
        {
          "metadata": {
            "tags": null
          },
          "name": "stderr",
          "output_type": "stream",
          "text": [
            "WARNING:tensorflow:Learning rate reduction is conditioned on metric `val_acc` which is not available. Available metrics are: loss,accuracy,val_loss,val_accuracy,lr\n"
          ]
        },
        {
          "metadata": {
            "tags": null
          },
          "name": "stdout",
          "output_type": "stream",
          "text": [
            "70/70 [==============================] - 61s 869ms/step - loss: 0.1013 - accuracy: 0.9352 - val_loss: 3.7780 - val_accuracy: 0.5254 - lr: 0.0010\n",
            "Epoch 31/100\n",
            "70/70 [==============================] - ETA: 0s - loss: 0.1094 - accuracy: 0.9276"
          ]
        },
        {
          "metadata": {
            "tags": null
          },
          "name": "stderr",
          "output_type": "stream",
          "text": [
            "WARNING:tensorflow:Learning rate reduction is conditioned on metric `val_acc` which is not available. Available metrics are: loss,accuracy,val_loss,val_accuracy,lr\n"
          ]
        },
        {
          "metadata": {
            "tags": null
          },
          "name": "stdout",
          "output_type": "stream",
          "text": [
            "70/70 [==============================] - 61s 874ms/step - loss: 0.1094 - accuracy: 0.9276 - val_loss: 3.7479 - val_accuracy: 0.5000 - lr: 0.0010\n",
            "Epoch 32/100\n",
            "70/70 [==============================] - ETA: 0s - loss: 0.1141 - accuracy: 0.9285"
          ]
        },
        {
          "metadata": {
            "tags": null
          },
          "name": "stderr",
          "output_type": "stream",
          "text": [
            "WARNING:tensorflow:Learning rate reduction is conditioned on metric `val_acc` which is not available. Available metrics are: loss,accuracy,val_loss,val_accuracy,lr\n"
          ]
        },
        {
          "metadata": {
            "tags": null
          },
          "name": "stdout",
          "output_type": "stream",
          "text": [
            "70/70 [==============================] - 61s 871ms/step - loss: 0.1141 - accuracy: 0.9285 - val_loss: 3.5134 - val_accuracy: 0.4746 - lr: 0.0010\n",
            "Epoch 33/100\n",
            "70/70 [==============================] - ETA: 0s - loss: 0.1107 - accuracy: 0.9290"
          ]
        },
        {
          "metadata": {
            "tags": null
          },
          "name": "stderr",
          "output_type": "stream",
          "text": [
            "WARNING:tensorflow:Learning rate reduction is conditioned on metric `val_acc` which is not available. Available metrics are: loss,accuracy,val_loss,val_accuracy,lr\n"
          ]
        },
        {
          "metadata": {
            "tags": null
          },
          "name": "stdout",
          "output_type": "stream",
          "text": [
            "70/70 [==============================] - 62s 888ms/step - loss: 0.1107 - accuracy: 0.9290 - val_loss: 4.2252 - val_accuracy: 0.4746 - lr: 0.0010\n",
            "Epoch 34/100\n",
            "70/70 [==============================] - ETA: 0s - loss: 0.1080 - accuracy: 0.9294"
          ]
        },
        {
          "metadata": {
            "tags": null
          },
          "name": "stderr",
          "output_type": "stream",
          "text": [
            "WARNING:tensorflow:Learning rate reduction is conditioned on metric `val_acc` which is not available. Available metrics are: loss,accuracy,val_loss,val_accuracy,lr\n"
          ]
        },
        {
          "metadata": {
            "tags": null
          },
          "name": "stdout",
          "output_type": "stream",
          "text": [
            "70/70 [==============================] - 61s 868ms/step - loss: 0.1080 - accuracy: 0.9294 - val_loss: 4.0144 - val_accuracy: 0.4576 - lr: 0.0010\n",
            "Epoch 35/100\n",
            "70/70 [==============================] - ETA: 0s - loss: 0.1086 - accuracy: 0.9285"
          ]
        },
        {
          "metadata": {
            "tags": null
          },
          "name": "stderr",
          "output_type": "stream",
          "text": [
            "WARNING:tensorflow:Learning rate reduction is conditioned on metric `val_acc` which is not available. Available metrics are: loss,accuracy,val_loss,val_accuracy,lr\n"
          ]
        },
        {
          "metadata": {
            "tags": null
          },
          "name": "stdout",
          "output_type": "stream",
          "text": [
            "70/70 [==============================] - 61s 867ms/step - loss: 0.1086 - accuracy: 0.9285 - val_loss: 3.7716 - val_accuracy: 0.5085 - lr: 0.0010\n",
            "Epoch 36/100\n",
            "70/70 [==============================] - ETA: 0s - loss: 0.0992 - accuracy: 0.9308"
          ]
        },
        {
          "metadata": {
            "tags": null
          },
          "name": "stderr",
          "output_type": "stream",
          "text": [
            "WARNING:tensorflow:Learning rate reduction is conditioned on metric `val_acc` which is not available. Available metrics are: loss,accuracy,val_loss,val_accuracy,lr\n"
          ]
        },
        {
          "metadata": {
            "tags": null
          },
          "name": "stdout",
          "output_type": "stream",
          "text": [
            "70/70 [==============================] - 61s 870ms/step - loss: 0.0992 - accuracy: 0.9308 - val_loss: 3.7362 - val_accuracy: 0.4915 - lr: 0.0010\n",
            "Epoch 37/100\n",
            "70/70 [==============================] - ETA: 0s - loss: 0.1010 - accuracy: 0.9308"
          ]
        },
        {
          "metadata": {
            "tags": null
          },
          "name": "stderr",
          "output_type": "stream",
          "text": [
            "WARNING:tensorflow:Learning rate reduction is conditioned on metric `val_acc` which is not available. Available metrics are: loss,accuracy,val_loss,val_accuracy,lr\n"
          ]
        },
        {
          "metadata": {
            "tags": null
          },
          "name": "stdout",
          "output_type": "stream",
          "text": [
            "70/70 [==============================] - 61s 874ms/step - loss: 0.1010 - accuracy: 0.9308 - val_loss: 3.8112 - val_accuracy: 0.4831 - lr: 0.0010\n",
            "Epoch 38/100\n",
            "70/70 [==============================] - ETA: 0s - loss: 0.0967 - accuracy: 0.9402"
          ]
        },
        {
          "metadata": {
            "tags": null
          },
          "name": "stderr",
          "output_type": "stream",
          "text": [
            "WARNING:tensorflow:Learning rate reduction is conditioned on metric `val_acc` which is not available. Available metrics are: loss,accuracy,val_loss,val_accuracy,lr\n"
          ]
        },
        {
          "metadata": {
            "tags": null
          },
          "name": "stdout",
          "output_type": "stream",
          "text": [
            "70/70 [==============================] - 62s 876ms/step - loss: 0.0967 - accuracy: 0.9402 - val_loss: 4.5603 - val_accuracy: 0.5085 - lr: 0.0010\n",
            "Epoch 39/100\n",
            "70/70 [==============================] - ETA: 0s - loss: 0.0968 - accuracy: 0.9384"
          ]
        },
        {
          "metadata": {
            "tags": null
          },
          "name": "stderr",
          "output_type": "stream",
          "text": [
            "WARNING:tensorflow:Learning rate reduction is conditioned on metric `val_acc` which is not available. Available metrics are: loss,accuracy,val_loss,val_accuracy,lr\n"
          ]
        },
        {
          "metadata": {
            "tags": null
          },
          "name": "stdout",
          "output_type": "stream",
          "text": [
            "70/70 [==============================] - 61s 869ms/step - loss: 0.0968 - accuracy: 0.9384 - val_loss: 3.7553 - val_accuracy: 0.5169 - lr: 0.0010\n",
            "Epoch 40/100\n",
            "70/70 [==============================] - ETA: 0s - loss: 0.0986 - accuracy: 0.9312"
          ]
        },
        {
          "metadata": {
            "tags": null
          },
          "name": "stderr",
          "output_type": "stream",
          "text": [
            "WARNING:tensorflow:Learning rate reduction is conditioned on metric `val_acc` which is not available. Available metrics are: loss,accuracy,val_loss,val_accuracy,lr\n"
          ]
        },
        {
          "metadata": {
            "tags": null
          },
          "name": "stdout",
          "output_type": "stream",
          "text": [
            "70/70 [==============================] - 61s 863ms/step - loss: 0.0986 - accuracy: 0.9312 - val_loss: 3.8270 - val_accuracy: 0.5000 - lr: 0.0010\n",
            "Epoch 41/100\n",
            "70/70 [==============================] - ETA: 0s - loss: 0.0999 - accuracy: 0.9294"
          ]
        },
        {
          "metadata": {
            "tags": null
          },
          "name": "stderr",
          "output_type": "stream",
          "text": [
            "WARNING:tensorflow:Learning rate reduction is conditioned on metric `val_acc` which is not available. Available metrics are: loss,accuracy,val_loss,val_accuracy,lr\n"
          ]
        },
        {
          "metadata": {
            "tags": null
          },
          "name": "stdout",
          "output_type": "stream",
          "text": [
            "70/70 [==============================] - 61s 867ms/step - loss: 0.0999 - accuracy: 0.9294 - val_loss: 3.5276 - val_accuracy: 0.5000 - lr: 0.0010\n",
            "Epoch 42/100\n",
            "70/70 [==============================] - ETA: 0s - loss: 0.1042 - accuracy: 0.9308"
          ]
        },
        {
          "metadata": {
            "tags": null
          },
          "name": "stderr",
          "output_type": "stream",
          "text": [
            "WARNING:tensorflow:Learning rate reduction is conditioned on metric `val_acc` which is not available. Available metrics are: loss,accuracy,val_loss,val_accuracy,lr\n"
          ]
        },
        {
          "metadata": {
            "tags": null
          },
          "name": "stdout",
          "output_type": "stream",
          "text": [
            "70/70 [==============================] - 62s 880ms/step - loss: 0.1042 - accuracy: 0.9308 - val_loss: 3.7294 - val_accuracy: 0.5085 - lr: 0.0010\n",
            "Epoch 43/100\n",
            "70/70 [==============================] - ETA: 0s - loss: 0.1037 - accuracy: 0.9276"
          ]
        },
        {
          "metadata": {
            "tags": null
          },
          "name": "stderr",
          "output_type": "stream",
          "text": [
            "WARNING:tensorflow:Learning rate reduction is conditioned on metric `val_acc` which is not available. Available metrics are: loss,accuracy,val_loss,val_accuracy,lr\n"
          ]
        },
        {
          "metadata": {
            "tags": null
          },
          "name": "stdout",
          "output_type": "stream",
          "text": [
            "70/70 [==============================] - 61s 872ms/step - loss: 0.1037 - accuracy: 0.9276 - val_loss: 4.0896 - val_accuracy: 0.5169 - lr: 0.0010\n",
            "Epoch 44/100\n",
            "70/70 [==============================] - ETA: 0s - loss: 0.1035 - accuracy: 0.9321"
          ]
        },
        {
          "metadata": {
            "tags": null
          },
          "name": "stderr",
          "output_type": "stream",
          "text": [
            "WARNING:tensorflow:Learning rate reduction is conditioned on metric `val_acc` which is not available. Available metrics are: loss,accuracy,val_loss,val_accuracy,lr\n"
          ]
        },
        {
          "metadata": {
            "tags": null
          },
          "name": "stdout",
          "output_type": "stream",
          "text": [
            "70/70 [==============================] - 61s 867ms/step - loss: 0.1035 - accuracy: 0.9321 - val_loss: 3.7512 - val_accuracy: 0.5085 - lr: 0.0010\n",
            "Epoch 45/100\n",
            "70/70 [==============================] - ETA: 0s - loss: 0.1002 - accuracy: 0.9326"
          ]
        },
        {
          "metadata": {
            "tags": null
          },
          "name": "stderr",
          "output_type": "stream",
          "text": [
            "WARNING:tensorflow:Learning rate reduction is conditioned on metric `val_acc` which is not available. Available metrics are: loss,accuracy,val_loss,val_accuracy,lr\n"
          ]
        },
        {
          "metadata": {
            "tags": null
          },
          "name": "stdout",
          "output_type": "stream",
          "text": [
            "70/70 [==============================] - 60s 860ms/step - loss: 0.1002 - accuracy: 0.9326 - val_loss: 3.5828 - val_accuracy: 0.5000 - lr: 0.0010\n",
            "Epoch 46/100\n",
            "70/70 [==============================] - ETA: 0s - loss: 0.1010 - accuracy: 0.9299"
          ]
        },
        {
          "metadata": {
            "tags": null
          },
          "name": "stderr",
          "output_type": "stream",
          "text": [
            "WARNING:tensorflow:Learning rate reduction is conditioned on metric `val_acc` which is not available. Available metrics are: loss,accuracy,val_loss,val_accuracy,lr\n"
          ]
        },
        {
          "metadata": {
            "tags": null
          },
          "name": "stdout",
          "output_type": "stream",
          "text": [
            "70/70 [==============================] - 60s 857ms/step - loss: 0.1010 - accuracy: 0.9299 - val_loss: 4.2292 - val_accuracy: 0.4915 - lr: 0.0010\n",
            "Epoch 47/100\n",
            "70/70 [==============================] - ETA: 0s - loss: 0.0958 - accuracy: 0.9361"
          ]
        },
        {
          "metadata": {
            "tags": null
          },
          "name": "stderr",
          "output_type": "stream",
          "text": [
            "WARNING:tensorflow:Learning rate reduction is conditioned on metric `val_acc` which is not available. Available metrics are: loss,accuracy,val_loss,val_accuracy,lr\n"
          ]
        },
        {
          "metadata": {
            "tags": null
          },
          "name": "stdout",
          "output_type": "stream",
          "text": [
            "70/70 [==============================] - 60s 854ms/step - loss: 0.0958 - accuracy: 0.9361 - val_loss: 3.8667 - val_accuracy: 0.4831 - lr: 0.0010\n",
            "Epoch 48/100\n",
            "70/70 [==============================] - ETA: 0s - loss: 0.0954 - accuracy: 0.9312"
          ]
        },
        {
          "metadata": {
            "tags": null
          },
          "name": "stderr",
          "output_type": "stream",
          "text": [
            "WARNING:tensorflow:Learning rate reduction is conditioned on metric `val_acc` which is not available. Available metrics are: loss,accuracy,val_loss,val_accuracy,lr\n"
          ]
        },
        {
          "metadata": {
            "tags": null
          },
          "name": "stdout",
          "output_type": "stream",
          "text": [
            "70/70 [==============================] - 62s 878ms/step - loss: 0.0954 - accuracy: 0.9312 - val_loss: 4.2444 - val_accuracy: 0.5000 - lr: 0.0010\n",
            "Epoch 49/100\n",
            "70/70 [==============================] - ETA: 0s - loss: 0.0954 - accuracy: 0.9330"
          ]
        },
        {
          "metadata": {
            "tags": null
          },
          "name": "stderr",
          "output_type": "stream",
          "text": [
            "WARNING:tensorflow:Learning rate reduction is conditioned on metric `val_acc` which is not available. Available metrics are: loss,accuracy,val_loss,val_accuracy,lr\n"
          ]
        },
        {
          "metadata": {
            "tags": null
          },
          "name": "stdout",
          "output_type": "stream",
          "text": [
            "70/70 [==============================] - 61s 876ms/step - loss: 0.0954 - accuracy: 0.9330 - val_loss: 4.2017 - val_accuracy: 0.4915 - lr: 0.0010\n",
            "Epoch 50/100\n",
            "70/70 [==============================] - ETA: 0s - loss: 0.0936 - accuracy: 0.9357"
          ]
        },
        {
          "metadata": {
            "tags": null
          },
          "name": "stderr",
          "output_type": "stream",
          "text": [
            "WARNING:tensorflow:Learning rate reduction is conditioned on metric `val_acc` which is not available. Available metrics are: loss,accuracy,val_loss,val_accuracy,lr\n"
          ]
        },
        {
          "metadata": {
            "tags": null
          },
          "name": "stdout",
          "output_type": "stream",
          "text": [
            "70/70 [==============================] - 61s 863ms/step - loss: 0.0936 - accuracy: 0.9357 - val_loss: 4.2388 - val_accuracy: 0.5169 - lr: 0.0010\n",
            "Epoch 51/100\n",
            "70/70 [==============================] - ETA: 0s - loss: 0.0910 - accuracy: 0.9348"
          ]
        },
        {
          "metadata": {
            "tags": null
          },
          "name": "stderr",
          "output_type": "stream",
          "text": [
            "WARNING:tensorflow:Learning rate reduction is conditioned on metric `val_acc` which is not available. Available metrics are: loss,accuracy,val_loss,val_accuracy,lr\n"
          ]
        },
        {
          "metadata": {
            "tags": null
          },
          "name": "stdout",
          "output_type": "stream",
          "text": [
            "70/70 [==============================] - 61s 877ms/step - loss: 0.0910 - accuracy: 0.9348 - val_loss: 3.9277 - val_accuracy: 0.5254 - lr: 0.0010\n",
            "Epoch 52/100\n",
            "70/70 [==============================] - ETA: 0s - loss: 0.0920 - accuracy: 0.9312"
          ]
        },
        {
          "metadata": {
            "tags": null
          },
          "name": "stderr",
          "output_type": "stream",
          "text": [
            "WARNING:tensorflow:Learning rate reduction is conditioned on metric `val_acc` which is not available. Available metrics are: loss,accuracy,val_loss,val_accuracy,lr\n"
          ]
        },
        {
          "metadata": {
            "tags": null
          },
          "name": "stdout",
          "output_type": "stream",
          "text": [
            "70/70 [==============================] - 61s 871ms/step - loss: 0.0920 - accuracy: 0.9312 - val_loss: 3.8251 - val_accuracy: 0.5085 - lr: 0.0010\n",
            "Epoch 53/100\n",
            "70/70 [==============================] - ETA: 0s - loss: 0.0915 - accuracy: 0.9370"
          ]
        },
        {
          "metadata": {
            "tags": null
          },
          "name": "stderr",
          "output_type": "stream",
          "text": [
            "WARNING:tensorflow:Learning rate reduction is conditioned on metric `val_acc` which is not available. Available metrics are: loss,accuracy,val_loss,val_accuracy,lr\n"
          ]
        },
        {
          "metadata": {
            "tags": null
          },
          "name": "stdout",
          "output_type": "stream",
          "text": [
            "70/70 [==============================] - 62s 877ms/step - loss: 0.0915 - accuracy: 0.9370 - val_loss: 3.8698 - val_accuracy: 0.4746 - lr: 0.0010\n",
            "Epoch 54/100\n",
            "70/70 [==============================] - ETA: 0s - loss: 0.0929 - accuracy: 0.9361"
          ]
        },
        {
          "metadata": {
            "tags": null
          },
          "name": "stderr",
          "output_type": "stream",
          "text": [
            "WARNING:tensorflow:Learning rate reduction is conditioned on metric `val_acc` which is not available. Available metrics are: loss,accuracy,val_loss,val_accuracy,lr\n"
          ]
        },
        {
          "metadata": {
            "tags": null
          },
          "name": "stdout",
          "output_type": "stream",
          "text": [
            "70/70 [==============================] - 61s 868ms/step - loss: 0.0929 - accuracy: 0.9361 - val_loss: 4.3129 - val_accuracy: 0.4915 - lr: 0.0010\n",
            "Epoch 55/100\n",
            "70/70 [==============================] - ETA: 0s - loss: 0.0919 - accuracy: 0.9294"
          ]
        },
        {
          "metadata": {
            "tags": null
          },
          "name": "stderr",
          "output_type": "stream",
          "text": [
            "WARNING:tensorflow:Learning rate reduction is conditioned on metric `val_acc` which is not available. Available metrics are: loss,accuracy,val_loss,val_accuracy,lr\n"
          ]
        },
        {
          "metadata": {
            "tags": null
          },
          "name": "stdout",
          "output_type": "stream",
          "text": [
            "70/70 [==============================] - 61s 864ms/step - loss: 0.0919 - accuracy: 0.9294 - val_loss: 4.2111 - val_accuracy: 0.5000 - lr: 0.0010\n",
            "Epoch 56/100\n",
            "70/70 [==============================] - ETA: 0s - loss: 0.0946 - accuracy: 0.9335"
          ]
        },
        {
          "metadata": {
            "tags": null
          },
          "name": "stderr",
          "output_type": "stream",
          "text": [
            "WARNING:tensorflow:Learning rate reduction is conditioned on metric `val_acc` which is not available. Available metrics are: loss,accuracy,val_loss,val_accuracy,lr\n"
          ]
        },
        {
          "metadata": {
            "tags": null
          },
          "name": "stdout",
          "output_type": "stream",
          "text": [
            "70/70 [==============================] - 62s 883ms/step - loss: 0.0946 - accuracy: 0.9335 - val_loss: 3.9554 - val_accuracy: 0.4915 - lr: 0.0010\n",
            "Epoch 57/100\n",
            "70/70 [==============================] - ETA: 0s - loss: 0.0916 - accuracy: 0.9437"
          ]
        },
        {
          "metadata": {
            "tags": null
          },
          "name": "stderr",
          "output_type": "stream",
          "text": [
            "WARNING:tensorflow:Learning rate reduction is conditioned on metric `val_acc` which is not available. Available metrics are: loss,accuracy,val_loss,val_accuracy,lr\n"
          ]
        },
        {
          "metadata": {
            "tags": null
          },
          "name": "stdout",
          "output_type": "stream",
          "text": [
            "70/70 [==============================] - 62s 877ms/step - loss: 0.0916 - accuracy: 0.9437 - val_loss: 4.0930 - val_accuracy: 0.5085 - lr: 0.0010\n",
            "Epoch 58/100\n",
            "70/70 [==============================] - ETA: 0s - loss: 0.0912 - accuracy: 0.9361"
          ]
        },
        {
          "metadata": {
            "tags": null
          },
          "name": "stderr",
          "output_type": "stream",
          "text": [
            "WARNING:tensorflow:Learning rate reduction is conditioned on metric `val_acc` which is not available. Available metrics are: loss,accuracy,val_loss,val_accuracy,lr\n"
          ]
        },
        {
          "metadata": {
            "tags": null
          },
          "name": "stdout",
          "output_type": "stream",
          "text": [
            "70/70 [==============================] - 61s 869ms/step - loss: 0.0912 - accuracy: 0.9361 - val_loss: 4.2470 - val_accuracy: 0.4661 - lr: 0.0010\n",
            "Epoch 59/100\n",
            "70/70 [==============================] - ETA: 0s - loss: 0.0926 - accuracy: 0.9290"
          ]
        },
        {
          "metadata": {
            "tags": null
          },
          "name": "stderr",
          "output_type": "stream",
          "text": [
            "WARNING:tensorflow:Learning rate reduction is conditioned on metric `val_acc` which is not available. Available metrics are: loss,accuracy,val_loss,val_accuracy,lr\n"
          ]
        },
        {
          "metadata": {
            "tags": null
          },
          "name": "stdout",
          "output_type": "stream",
          "text": [
            "70/70 [==============================] - 60s 855ms/step - loss: 0.0926 - accuracy: 0.9290 - val_loss: 4.6060 - val_accuracy: 0.5000 - lr: 0.0010\n",
            "Epoch 60/100\n",
            "70/70 [==============================] - ETA: 0s - loss: 0.0922 - accuracy: 0.9339"
          ]
        },
        {
          "metadata": {
            "tags": null
          },
          "name": "stderr",
          "output_type": "stream",
          "text": [
            "WARNING:tensorflow:Learning rate reduction is conditioned on metric `val_acc` which is not available. Available metrics are: loss,accuracy,val_loss,val_accuracy,lr\n"
          ]
        },
        {
          "metadata": {
            "tags": null
          },
          "name": "stdout",
          "output_type": "stream",
          "text": [
            "70/70 [==============================] - 62s 883ms/step - loss: 0.0922 - accuracy: 0.9339 - val_loss: 4.3392 - val_accuracy: 0.5169 - lr: 0.0010\n",
            "Epoch 61/100\n",
            "70/70 [==============================] - ETA: 0s - loss: 0.0953 - accuracy: 0.9343"
          ]
        },
        {
          "metadata": {
            "tags": null
          },
          "name": "stderr",
          "output_type": "stream",
          "text": [
            "WARNING:tensorflow:Learning rate reduction is conditioned on metric `val_acc` which is not available. Available metrics are: loss,accuracy,val_loss,val_accuracy,lr\n"
          ]
        },
        {
          "metadata": {
            "tags": null
          },
          "name": "stdout",
          "output_type": "stream",
          "text": [
            "70/70 [==============================] - 61s 866ms/step - loss: 0.0953 - accuracy: 0.9343 - val_loss: 4.0295 - val_accuracy: 0.4831 - lr: 0.0010\n",
            "Epoch 62/100\n",
            "70/70 [==============================] - ETA: 0s - loss: 0.0915 - accuracy: 0.9326"
          ]
        },
        {
          "metadata": {
            "tags": null
          },
          "name": "stderr",
          "output_type": "stream",
          "text": [
            "WARNING:tensorflow:Learning rate reduction is conditioned on metric `val_acc` which is not available. Available metrics are: loss,accuracy,val_loss,val_accuracy,lr\n"
          ]
        },
        {
          "metadata": {
            "tags": null
          },
          "name": "stdout",
          "output_type": "stream",
          "text": [
            "70/70 [==============================] - 61s 872ms/step - loss: 0.0915 - accuracy: 0.9326 - val_loss: 4.2039 - val_accuracy: 0.5000 - lr: 0.0010\n",
            "Epoch 63/100\n",
            "70/70 [==============================] - ETA: 0s - loss: 0.0896 - accuracy: 0.9379"
          ]
        },
        {
          "metadata": {
            "tags": null
          },
          "name": "stderr",
          "output_type": "stream",
          "text": [
            "WARNING:tensorflow:Learning rate reduction is conditioned on metric `val_acc` which is not available. Available metrics are: loss,accuracy,val_loss,val_accuracy,lr\n"
          ]
        },
        {
          "metadata": {
            "tags": null
          },
          "name": "stdout",
          "output_type": "stream",
          "text": [
            "70/70 [==============================] - 61s 867ms/step - loss: 0.0896 - accuracy: 0.9379 - val_loss: 4.0875 - val_accuracy: 0.5085 - lr: 0.0010\n",
            "Epoch 64/100\n",
            "70/70 [==============================] - ETA: 0s - loss: 0.0926 - accuracy: 0.9339"
          ]
        },
        {
          "metadata": {
            "tags": null
          },
          "name": "stderr",
          "output_type": "stream",
          "text": [
            "WARNING:tensorflow:Learning rate reduction is conditioned on metric `val_acc` which is not available. Available metrics are: loss,accuracy,val_loss,val_accuracy,lr\n"
          ]
        },
        {
          "metadata": {
            "tags": null
          },
          "name": "stdout",
          "output_type": "stream",
          "text": [
            "70/70 [==============================] - 62s 874ms/step - loss: 0.0926 - accuracy: 0.9339 - val_loss: 4.2820 - val_accuracy: 0.4831 - lr: 0.0010\n",
            "Epoch 65/100\n",
            "70/70 [==============================] - ETA: 0s - loss: 0.0911 - accuracy: 0.9312"
          ]
        },
        {
          "metadata": {
            "tags": null
          },
          "name": "stderr",
          "output_type": "stream",
          "text": [
            "WARNING:tensorflow:Learning rate reduction is conditioned on metric `val_acc` which is not available. Available metrics are: loss,accuracy,val_loss,val_accuracy,lr\n"
          ]
        },
        {
          "metadata": {
            "tags": null
          },
          "name": "stdout",
          "output_type": "stream",
          "text": [
            "70/70 [==============================] - 62s 877ms/step - loss: 0.0911 - accuracy: 0.9312 - val_loss: 4.1654 - val_accuracy: 0.5085 - lr: 0.0010\n",
            "Epoch 66/100\n",
            "70/70 [==============================] - ETA: 0s - loss: 0.0902 - accuracy: 0.9317"
          ]
        },
        {
          "metadata": {
            "tags": null
          },
          "name": "stderr",
          "output_type": "stream",
          "text": [
            "WARNING:tensorflow:Learning rate reduction is conditioned on metric `val_acc` which is not available. Available metrics are: loss,accuracy,val_loss,val_accuracy,lr\n"
          ]
        },
        {
          "metadata": {
            "tags": null
          },
          "name": "stdout",
          "output_type": "stream",
          "text": [
            "70/70 [==============================] - 61s 867ms/step - loss: 0.0902 - accuracy: 0.9317 - val_loss: 4.9079 - val_accuracy: 0.5254 - lr: 0.0010\n",
            "Epoch 67/100\n",
            "70/70 [==============================] - ETA: 0s - loss: 0.0906 - accuracy: 0.9375"
          ]
        },
        {
          "metadata": {
            "tags": null
          },
          "name": "stderr",
          "output_type": "stream",
          "text": [
            "WARNING:tensorflow:Learning rate reduction is conditioned on metric `val_acc` which is not available. Available metrics are: loss,accuracy,val_loss,val_accuracy,lr\n"
          ]
        },
        {
          "metadata": {
            "tags": null
          },
          "name": "stdout",
          "output_type": "stream",
          "text": [
            "70/70 [==============================] - 61s 873ms/step - loss: 0.0906 - accuracy: 0.9375 - val_loss: 4.9989 - val_accuracy: 0.5000 - lr: 0.0010\n",
            "Epoch 68/100\n",
            "70/70 [==============================] - ETA: 0s - loss: 0.0928 - accuracy: 0.9361"
          ]
        },
        {
          "metadata": {
            "tags": null
          },
          "name": "stderr",
          "output_type": "stream",
          "text": [
            "WARNING:tensorflow:Learning rate reduction is conditioned on metric `val_acc` which is not available. Available metrics are: loss,accuracy,val_loss,val_accuracy,lr\n"
          ]
        },
        {
          "metadata": {
            "tags": null
          },
          "name": "stdout",
          "output_type": "stream",
          "text": [
            "70/70 [==============================] - 61s 869ms/step - loss: 0.0928 - accuracy: 0.9361 - val_loss: 4.6084 - val_accuracy: 0.4831 - lr: 0.0010\n",
            "Epoch 69/100\n",
            "70/70 [==============================] - ETA: 0s - loss: 0.0964 - accuracy: 0.9415"
          ]
        },
        {
          "metadata": {
            "tags": null
          },
          "name": "stderr",
          "output_type": "stream",
          "text": [
            "WARNING:tensorflow:Learning rate reduction is conditioned on metric `val_acc` which is not available. Available metrics are: loss,accuracy,val_loss,val_accuracy,lr\n"
          ]
        },
        {
          "metadata": {
            "tags": null
          },
          "name": "stdout",
          "output_type": "stream",
          "text": [
            "70/70 [==============================] - 61s 865ms/step - loss: 0.0964 - accuracy: 0.9415 - val_loss: 4.6213 - val_accuracy: 0.5000 - lr: 0.0010\n",
            "Epoch 70/100\n",
            "70/70 [==============================] - ETA: 0s - loss: 0.0944 - accuracy: 0.9308"
          ]
        },
        {
          "metadata": {
            "tags": null
          },
          "name": "stderr",
          "output_type": "stream",
          "text": [
            "WARNING:tensorflow:Learning rate reduction is conditioned on metric `val_acc` which is not available. Available metrics are: loss,accuracy,val_loss,val_accuracy,lr\n"
          ]
        },
        {
          "metadata": {
            "tags": null
          },
          "name": "stdout",
          "output_type": "stream",
          "text": [
            "70/70 [==============================] - 61s 868ms/step - loss: 0.0944 - accuracy: 0.9308 - val_loss: 3.7198 - val_accuracy: 0.4831 - lr: 0.0010\n",
            "Epoch 71/100\n",
            "70/70 [==============================] - ETA: 0s - loss: 0.0984 - accuracy: 0.9254"
          ]
        },
        {
          "metadata": {
            "tags": null
          },
          "name": "stderr",
          "output_type": "stream",
          "text": [
            "WARNING:tensorflow:Learning rate reduction is conditioned on metric `val_acc` which is not available. Available metrics are: loss,accuracy,val_loss,val_accuracy,lr\n"
          ]
        },
        {
          "metadata": {
            "tags": null
          },
          "name": "stdout",
          "output_type": "stream",
          "text": [
            "70/70 [==============================] - 61s 874ms/step - loss: 0.0984 - accuracy: 0.9254 - val_loss: 4.7353 - val_accuracy: 0.4915 - lr: 0.0010\n",
            "Epoch 72/100\n",
            "70/70 [==============================] - ETA: 0s - loss: 0.0930 - accuracy: 0.9326"
          ]
        },
        {
          "metadata": {
            "tags": null
          },
          "name": "stderr",
          "output_type": "stream",
          "text": [
            "WARNING:tensorflow:Learning rate reduction is conditioned on metric `val_acc` which is not available. Available metrics are: loss,accuracy,val_loss,val_accuracy,lr\n"
          ]
        },
        {
          "metadata": {
            "tags": null
          },
          "name": "stdout",
          "output_type": "stream",
          "text": [
            "70/70 [==============================] - 61s 863ms/step - loss: 0.0930 - accuracy: 0.9326 - val_loss: 5.0682 - val_accuracy: 0.4831 - lr: 0.0010\n",
            "Epoch 73/100\n",
            "70/70 [==============================] - ETA: 0s - loss: 0.0941 - accuracy: 0.9299"
          ]
        },
        {
          "metadata": {
            "tags": null
          },
          "name": "stderr",
          "output_type": "stream",
          "text": [
            "WARNING:tensorflow:Learning rate reduction is conditioned on metric `val_acc` which is not available. Available metrics are: loss,accuracy,val_loss,val_accuracy,lr\n"
          ]
        },
        {
          "metadata": {
            "tags": null
          },
          "name": "stdout",
          "output_type": "stream",
          "text": [
            "70/70 [==============================] - 62s 889ms/step - loss: 0.0941 - accuracy: 0.9299 - val_loss: 4.9062 - val_accuracy: 0.4746 - lr: 0.0010\n",
            "Epoch 74/100\n",
            "70/70 [==============================] - ETA: 0s - loss: 0.0927 - accuracy: 0.9375"
          ]
        },
        {
          "metadata": {
            "tags": null
          },
          "name": "stderr",
          "output_type": "stream",
          "text": [
            "WARNING:tensorflow:Learning rate reduction is conditioned on metric `val_acc` which is not available. Available metrics are: loss,accuracy,val_loss,val_accuracy,lr\n"
          ]
        },
        {
          "metadata": {
            "tags": null
          },
          "name": "stdout",
          "output_type": "stream",
          "text": [
            "70/70 [==============================] - 62s 878ms/step - loss: 0.0927 - accuracy: 0.9375 - val_loss: 4.7259 - val_accuracy: 0.5085 - lr: 0.0010\n",
            "Epoch 75/100\n",
            "70/70 [==============================] - ETA: 0s - loss: 0.0912 - accuracy: 0.9285"
          ]
        },
        {
          "metadata": {
            "tags": null
          },
          "name": "stderr",
          "output_type": "stream",
          "text": [
            "WARNING:tensorflow:Learning rate reduction is conditioned on metric `val_acc` which is not available. Available metrics are: loss,accuracy,val_loss,val_accuracy,lr\n"
          ]
        },
        {
          "metadata": {
            "tags": null
          },
          "name": "stdout",
          "output_type": "stream",
          "text": [
            "70/70 [==============================] - 61s 875ms/step - loss: 0.0912 - accuracy: 0.9285 - val_loss: 4.9586 - val_accuracy: 0.4915 - lr: 0.0010\n",
            "Epoch 76/100\n",
            "70/70 [==============================] - ETA: 0s - loss: 0.0897 - accuracy: 0.9402"
          ]
        },
        {
          "metadata": {
            "tags": null
          },
          "name": "stderr",
          "output_type": "stream",
          "text": [
            "WARNING:tensorflow:Learning rate reduction is conditioned on metric `val_acc` which is not available. Available metrics are: loss,accuracy,val_loss,val_accuracy,lr\n"
          ]
        },
        {
          "metadata": {
            "tags": null
          },
          "name": "stdout",
          "output_type": "stream",
          "text": [
            "70/70 [==============================] - 60s 858ms/step - loss: 0.0897 - accuracy: 0.9402 - val_loss: 4.8509 - val_accuracy: 0.5085 - lr: 0.0010\n",
            "Epoch 77/100\n",
            "70/70 [==============================] - ETA: 0s - loss: 0.0922 - accuracy: 0.9303"
          ]
        },
        {
          "metadata": {
            "tags": null
          },
          "name": "stderr",
          "output_type": "stream",
          "text": [
            "WARNING:tensorflow:Learning rate reduction is conditioned on metric `val_acc` which is not available. Available metrics are: loss,accuracy,val_loss,val_accuracy,lr\n"
          ]
        },
        {
          "metadata": {
            "tags": null
          },
          "name": "stdout",
          "output_type": "stream",
          "text": [
            "70/70 [==============================] - 61s 864ms/step - loss: 0.0922 - accuracy: 0.9303 - val_loss: 4.8733 - val_accuracy: 0.4831 - lr: 0.0010\n",
            "Epoch 78/100\n",
            "70/70 [==============================] - ETA: 0s - loss: 0.0900 - accuracy: 0.9343"
          ]
        },
        {
          "metadata": {
            "tags": null
          },
          "name": "stderr",
          "output_type": "stream",
          "text": [
            "WARNING:tensorflow:Learning rate reduction is conditioned on metric `val_acc` which is not available. Available metrics are: loss,accuracy,val_loss,val_accuracy,lr\n"
          ]
        },
        {
          "metadata": {
            "tags": null
          },
          "name": "stdout",
          "output_type": "stream",
          "text": [
            "70/70 [==============================] - 62s 883ms/step - loss: 0.0900 - accuracy: 0.9343 - val_loss: 5.4086 - val_accuracy: 0.5169 - lr: 0.0010\n",
            "Epoch 79/100\n",
            "70/70 [==============================] - ETA: 0s - loss: 0.0901 - accuracy: 0.9343"
          ]
        },
        {
          "metadata": {
            "tags": null
          },
          "name": "stderr",
          "output_type": "stream",
          "text": [
            "WARNING:tensorflow:Learning rate reduction is conditioned on metric `val_acc` which is not available. Available metrics are: loss,accuracy,val_loss,val_accuracy,lr\n"
          ]
        },
        {
          "metadata": {
            "tags": null
          },
          "name": "stdout",
          "output_type": "stream",
          "text": [
            "70/70 [==============================] - 60s 860ms/step - loss: 0.0901 - accuracy: 0.9343 - val_loss: 5.2072 - val_accuracy: 0.4915 - lr: 0.0010\n",
            "Epoch 80/100\n",
            "70/70 [==============================] - ETA: 0s - loss: 0.0899 - accuracy: 0.9348"
          ]
        },
        {
          "metadata": {
            "tags": null
          },
          "name": "stderr",
          "output_type": "stream",
          "text": [
            "WARNING:tensorflow:Learning rate reduction is conditioned on metric `val_acc` which is not available. Available metrics are: loss,accuracy,val_loss,val_accuracy,lr\n"
          ]
        },
        {
          "metadata": {
            "tags": null
          },
          "name": "stdout",
          "output_type": "stream",
          "text": [
            "70/70 [==============================] - 61s 872ms/step - loss: 0.0899 - accuracy: 0.9348 - val_loss: 5.0745 - val_accuracy: 0.5000 - lr: 0.0010\n",
            "Epoch 81/100\n",
            "70/70 [==============================] - ETA: 0s - loss: 0.0899 - accuracy: 0.9308"
          ]
        },
        {
          "metadata": {
            "tags": null
          },
          "name": "stderr",
          "output_type": "stream",
          "text": [
            "WARNING:tensorflow:Learning rate reduction is conditioned on metric `val_acc` which is not available. Available metrics are: loss,accuracy,val_loss,val_accuracy,lr\n"
          ]
        },
        {
          "metadata": {
            "tags": null
          },
          "name": "stdout",
          "output_type": "stream",
          "text": [
            "70/70 [==============================] - 61s 864ms/step - loss: 0.0899 - accuracy: 0.9308 - val_loss: 4.7744 - val_accuracy: 0.5085 - lr: 0.0010\n",
            "Epoch 82/100\n",
            "70/70 [==============================] - ETA: 0s - loss: 0.0896 - accuracy: 0.9343"
          ]
        },
        {
          "metadata": {
            "tags": null
          },
          "name": "stderr",
          "output_type": "stream",
          "text": [
            "WARNING:tensorflow:Learning rate reduction is conditioned on metric `val_acc` which is not available. Available metrics are: loss,accuracy,val_loss,val_accuracy,lr\n"
          ]
        },
        {
          "metadata": {
            "tags": null
          },
          "name": "stdout",
          "output_type": "stream",
          "text": [
            "70/70 [==============================] - 60s 857ms/step - loss: 0.0896 - accuracy: 0.9343 - val_loss: 4.8198 - val_accuracy: 0.5085 - lr: 0.0010\n",
            "Epoch 83/100\n",
            "70/70 [==============================] - ETA: 0s - loss: 0.0899 - accuracy: 0.9352"
          ]
        },
        {
          "metadata": {
            "tags": null
          },
          "name": "stderr",
          "output_type": "stream",
          "text": [
            "WARNING:tensorflow:Learning rate reduction is conditioned on metric `val_acc` which is not available. Available metrics are: loss,accuracy,val_loss,val_accuracy,lr\n"
          ]
        },
        {
          "metadata": {
            "tags": null
          },
          "name": "stdout",
          "output_type": "stream",
          "text": [
            "70/70 [==============================] - 60s 855ms/step - loss: 0.0899 - accuracy: 0.9352 - val_loss: 4.8351 - val_accuracy: 0.4661 - lr: 0.0010\n",
            "Epoch 84/100\n",
            "70/70 [==============================] - ETA: 0s - loss: 0.0900 - accuracy: 0.9343"
          ]
        },
        {
          "metadata": {
            "tags": null
          },
          "name": "stderr",
          "output_type": "stream",
          "text": [
            "WARNING:tensorflow:Learning rate reduction is conditioned on metric `val_acc` which is not available. Available metrics are: loss,accuracy,val_loss,val_accuracy,lr\n"
          ]
        },
        {
          "metadata": {
            "tags": null
          },
          "name": "stdout",
          "output_type": "stream",
          "text": [
            "70/70 [==============================] - 61s 859ms/step - loss: 0.0900 - accuracy: 0.9343 - val_loss: 5.0764 - val_accuracy: 0.5085 - lr: 0.0010\n",
            "Epoch 85/100\n",
            "70/70 [==============================] - ETA: 0s - loss: 0.0889 - accuracy: 0.9370"
          ]
        },
        {
          "metadata": {
            "tags": null
          },
          "name": "stderr",
          "output_type": "stream",
          "text": [
            "WARNING:tensorflow:Learning rate reduction is conditioned on metric `val_acc` which is not available. Available metrics are: loss,accuracy,val_loss,val_accuracy,lr\n"
          ]
        },
        {
          "metadata": {
            "tags": null
          },
          "name": "stdout",
          "output_type": "stream",
          "text": [
            "70/70 [==============================] - 61s 869ms/step - loss: 0.0889 - accuracy: 0.9370 - val_loss: 5.1321 - val_accuracy: 0.5000 - lr: 0.0010\n",
            "Epoch 86/100\n",
            "70/70 [==============================] - ETA: 0s - loss: 0.0884 - accuracy: 0.9335"
          ]
        },
        {
          "metadata": {
            "tags": null
          },
          "name": "stderr",
          "output_type": "stream",
          "text": [
            "WARNING:tensorflow:Learning rate reduction is conditioned on metric `val_acc` which is not available. Available metrics are: loss,accuracy,val_loss,val_accuracy,lr\n"
          ]
        },
        {
          "metadata": {
            "tags": null
          },
          "name": "stdout",
          "output_type": "stream",
          "text": [
            "70/70 [==============================] - 62s 880ms/step - loss: 0.0884 - accuracy: 0.9335 - val_loss: 5.1227 - val_accuracy: 0.4746 - lr: 0.0010\n",
            "Epoch 87/100\n",
            "70/70 [==============================] - ETA: 0s - loss: 0.0879 - accuracy: 0.9370"
          ]
        },
        {
          "metadata": {
            "tags": null
          },
          "name": "stderr",
          "output_type": "stream",
          "text": [
            "WARNING:tensorflow:Learning rate reduction is conditioned on metric `val_acc` which is not available. Available metrics are: loss,accuracy,val_loss,val_accuracy,lr\n"
          ]
        },
        {
          "metadata": {
            "tags": null
          },
          "name": "stdout",
          "output_type": "stream",
          "text": [
            "70/70 [==============================] - 62s 882ms/step - loss: 0.0879 - accuracy: 0.9370 - val_loss: 5.1947 - val_accuracy: 0.5085 - lr: 0.0010\n",
            "Epoch 88/100\n",
            "70/70 [==============================] - ETA: 0s - loss: 0.0911 - accuracy: 0.9326"
          ]
        },
        {
          "metadata": {
            "tags": null
          },
          "name": "stderr",
          "output_type": "stream",
          "text": [
            "WARNING:tensorflow:Learning rate reduction is conditioned on metric `val_acc` which is not available. Available metrics are: loss,accuracy,val_loss,val_accuracy,lr\n"
          ]
        },
        {
          "metadata": {
            "tags": null
          },
          "name": "stdout",
          "output_type": "stream",
          "text": [
            "70/70 [==============================] - 61s 871ms/step - loss: 0.0911 - accuracy: 0.9326 - val_loss: 5.2713 - val_accuracy: 0.5085 - lr: 0.0010\n",
            "Epoch 89/100\n",
            "70/70 [==============================] - ETA: 0s - loss: 0.0897 - accuracy: 0.9330"
          ]
        },
        {
          "metadata": {
            "tags": null
          },
          "name": "stderr",
          "output_type": "stream",
          "text": [
            "WARNING:tensorflow:Learning rate reduction is conditioned on metric `val_acc` which is not available. Available metrics are: loss,accuracy,val_loss,val_accuracy,lr\n"
          ]
        },
        {
          "metadata": {
            "tags": null
          },
          "name": "stdout",
          "output_type": "stream",
          "text": [
            "70/70 [==============================] - 61s 872ms/step - loss: 0.0897 - accuracy: 0.9330 - val_loss: 5.2616 - val_accuracy: 0.4746 - lr: 0.0010\n",
            "Epoch 90/100\n",
            "70/70 [==============================] - ETA: 0s - loss: 0.0903 - accuracy: 0.9330"
          ]
        },
        {
          "metadata": {
            "tags": null
          },
          "name": "stderr",
          "output_type": "stream",
          "text": [
            "WARNING:tensorflow:Learning rate reduction is conditioned on metric `val_acc` which is not available. Available metrics are: loss,accuracy,val_loss,val_accuracy,lr\n"
          ]
        },
        {
          "metadata": {
            "tags": null
          },
          "name": "stdout",
          "output_type": "stream",
          "text": [
            "70/70 [==============================] - 61s 862ms/step - loss: 0.0903 - accuracy: 0.9330 - val_loss: 5.0213 - val_accuracy: 0.4915 - lr: 0.0010\n",
            "Epoch 91/100\n",
            "70/70 [==============================] - ETA: 0s - loss: 0.0908 - accuracy: 0.9361"
          ]
        },
        {
          "metadata": {
            "tags": null
          },
          "name": "stderr",
          "output_type": "stream",
          "text": [
            "WARNING:tensorflow:Learning rate reduction is conditioned on metric `val_acc` which is not available. Available metrics are: loss,accuracy,val_loss,val_accuracy,lr\n"
          ]
        },
        {
          "metadata": {
            "tags": null
          },
          "name": "stdout",
          "output_type": "stream",
          "text": [
            "70/70 [==============================] - 62s 885ms/step - loss: 0.0908 - accuracy: 0.9361 - val_loss: 5.3801 - val_accuracy: 0.5169 - lr: 0.0010\n",
            "Epoch 92/100\n",
            "70/70 [==============================] - ETA: 0s - loss: 0.0899 - accuracy: 0.9370"
          ]
        },
        {
          "metadata": {
            "tags": null
          },
          "name": "stderr",
          "output_type": "stream",
          "text": [
            "WARNING:tensorflow:Learning rate reduction is conditioned on metric `val_acc` which is not available. Available metrics are: loss,accuracy,val_loss,val_accuracy,lr\n"
          ]
        },
        {
          "metadata": {
            "tags": null
          },
          "name": "stdout",
          "output_type": "stream",
          "text": [
            "70/70 [==============================] - 61s 872ms/step - loss: 0.0899 - accuracy: 0.9370 - val_loss: 5.1895 - val_accuracy: 0.4915 - lr: 0.0010\n",
            "Epoch 93/100\n",
            "70/70 [==============================] - ETA: 0s - loss: 0.0897 - accuracy: 0.9352"
          ]
        },
        {
          "metadata": {
            "tags": null
          },
          "name": "stderr",
          "output_type": "stream",
          "text": [
            "WARNING:tensorflow:Learning rate reduction is conditioned on metric `val_acc` which is not available. Available metrics are: loss,accuracy,val_loss,val_accuracy,lr\n"
          ]
        },
        {
          "metadata": {
            "tags": null
          },
          "name": "stdout",
          "output_type": "stream",
          "text": [
            "70/70 [==============================] - 61s 874ms/step - loss: 0.0897 - accuracy: 0.9352 - val_loss: 5.4228 - val_accuracy: 0.4746 - lr: 0.0010\n",
            "Epoch 94/100\n",
            "70/70 [==============================] - ETA: 0s - loss: 0.0907 - accuracy: 0.9330"
          ]
        },
        {
          "metadata": {
            "tags": null
          },
          "name": "stderr",
          "output_type": "stream",
          "text": [
            "WARNING:tensorflow:Learning rate reduction is conditioned on metric `val_acc` which is not available. Available metrics are: loss,accuracy,val_loss,val_accuracy,lr\n"
          ]
        },
        {
          "metadata": {
            "tags": null
          },
          "name": "stdout",
          "output_type": "stream",
          "text": [
            "70/70 [==============================] - 61s 873ms/step - loss: 0.0907 - accuracy: 0.9330 - val_loss: 5.0450 - val_accuracy: 0.4746 - lr: 0.0010\n",
            "Epoch 95/100\n",
            "70/70 [==============================] - ETA: 0s - loss: 0.0869 - accuracy: 0.9393"
          ]
        },
        {
          "metadata": {
            "tags": null
          },
          "name": "stderr",
          "output_type": "stream",
          "text": [
            "WARNING:tensorflow:Learning rate reduction is conditioned on metric `val_acc` which is not available. Available metrics are: loss,accuracy,val_loss,val_accuracy,lr\n"
          ]
        },
        {
          "metadata": {
            "tags": null
          },
          "name": "stdout",
          "output_type": "stream",
          "text": [
            "70/70 [==============================] - 62s 876ms/step - loss: 0.0869 - accuracy: 0.9393 - val_loss: 5.6306 - val_accuracy: 0.4915 - lr: 0.0010\n",
            "Epoch 96/100\n",
            "70/70 [==============================] - ETA: 0s - loss: 0.0898 - accuracy: 0.9366"
          ]
        },
        {
          "metadata": {
            "tags": null
          },
          "name": "stderr",
          "output_type": "stream",
          "text": [
            "WARNING:tensorflow:Learning rate reduction is conditioned on metric `val_acc` which is not available. Available metrics are: loss,accuracy,val_loss,val_accuracy,lr\n"
          ]
        },
        {
          "metadata": {
            "tags": null
          },
          "name": "stdout",
          "output_type": "stream",
          "text": [
            "70/70 [==============================] - 61s 868ms/step - loss: 0.0898 - accuracy: 0.9366 - val_loss: 5.7874 - val_accuracy: 0.4915 - lr: 0.0010\n",
            "Epoch 97/100\n",
            "70/70 [==============================] - ETA: 0s - loss: 0.0877 - accuracy: 0.9361"
          ]
        },
        {
          "metadata": {
            "tags": null
          },
          "name": "stderr",
          "output_type": "stream",
          "text": [
            "WARNING:tensorflow:Learning rate reduction is conditioned on metric `val_acc` which is not available. Available metrics are: loss,accuracy,val_loss,val_accuracy,lr\n"
          ]
        },
        {
          "metadata": {
            "tags": null
          },
          "name": "stdout",
          "output_type": "stream",
          "text": [
            "70/70 [==============================] - 62s 877ms/step - loss: 0.0877 - accuracy: 0.9361 - val_loss: 5.6676 - val_accuracy: 0.5085 - lr: 0.0010\n",
            "Epoch 98/100\n",
            "70/70 [==============================] - ETA: 0s - loss: 0.0915 - accuracy: 0.9241"
          ]
        },
        {
          "metadata": {
            "tags": null
          },
          "name": "stderr",
          "output_type": "stream",
          "text": [
            "WARNING:tensorflow:Learning rate reduction is conditioned on metric `val_acc` which is not available. Available metrics are: loss,accuracy,val_loss,val_accuracy,lr\n"
          ]
        },
        {
          "output_type": "stream",
          "name": "stdout",
          "text": [
            "70/70 [==============================] - 61s 872ms/step - loss: 0.0915 - accuracy: 0.9241 - val_loss: 5.0189 - val_accuracy: 0.4746 - lr: 0.0010\n",
            "Epoch 99/100\n",
            "70/70 [==============================] - ETA: 0s - loss: 0.0908 - accuracy: 0.9357"
          ]
        },
        {
          "output_type": "stream",
          "name": "stderr",
          "text": [
            "WARNING:tensorflow:Learning rate reduction is conditioned on metric `val_acc` which is not available. Available metrics are: loss,accuracy,val_loss,val_accuracy,lr\n"
          ]
        },
        {
          "output_type": "stream",
          "name": "stdout",
          "text": [
            "\b\b\b\b\b\b\b\b\b\b\b\b\b\b\b\b\b\b\b\b\b\b\b\b\b\b\b\b\b\b\b\b\b\b\b\b\b\b\b\b\b\b\b\b\b\b\b\b\b\b\b\b\b\b\b\b\b\b\b\b\b\b\b\b\b\b\b\b\b\b\b\b\b\b\b\b\b\b\b\b\b\b\r70/70 [==============================] - 61s 867ms/step - loss: 0.0908 - accuracy: 0.9357 - val_loss: 5.1189 - val_accuracy: 0.5000 - lr: 0.0010\n",
            "Epoch 100/100\n",
            "70/70 [==============================] - ETA: 0s - loss: 0.0907 - accuracy: 0.9348"
          ]
        },
        {
          "output_type": "stream",
          "name": "stderr",
          "text": [
            "WARNING:tensorflow:Learning rate reduction is conditioned on metric `val_acc` which is not available. Available metrics are: loss,accuracy,val_loss,val_accuracy,lr\n"
          ]
        },
        {
          "output_type": "stream",
          "name": "stdout",
          "text": [
            "\b\b\b\b\b\b\b\b\b\b\b\b\b\b\b\b\b\b\b\b\b\b\b\b\b\b\b\b\b\b\b\b\b\b\b\b\b\b\b\b\b\b\b\b\b\b\b\b\b\b\b\b\b\b\b\b\b\b\b\b\b\b\b\b\b\b\b\b\b\b\b\b\b\b\b\b\b\b\b\b\b\b\r70/70 [==============================] - 61s 867ms/step - loss: 0.0907 - accuracy: 0.9348 - val_loss: 6.7861 - val_accuracy: 0.4831 - lr: 0.0010\n"
          ]
        }
      ]
    },
    {
      "cell_type": "code",
      "source": [
        "\n",
        "loss, accuracy = model.evaluate(X_train,verbose=1)\n",
        "print(\"Train: accuracy = %f  ;  loss = %f\" % (accuracy, loss))"
      ],
      "metadata": {
        "id": "UIGcCOPuwE5M",
        "colab": {
          "base_uri": "https://localhost:8080/"
        },
        "outputId": "f083598e-5521-46ea-89cd-b01b6edce223"
      },
      "execution_count": null,
      "outputs": [
        {
          "output_type": "stream",
          "name": "stdout",
          "text": [
            "70/70 [==============================] - 42s 597ms/step - loss: 0.0888 - accuracy: 0.9393\n",
            "Train: accuracy = 0.939259  ;  loss = 0.088770\n"
          ]
        }
      ]
    },
    {
      "cell_type": "code",
      "source": [
        "loss, accuracy = model.evaluate(X_val, verbose=1)\n",
        "print(\"Testing: accuracy = %f  ;  loss = %f\" % (accuracy, loss))"
      ],
      "metadata": {
        "id": "8921pPUWwOJg",
        "colab": {
          "base_uri": "https://localhost:8080/"
        },
        "outputId": "217d3d25-00d6-4706-d4d2-79c78aaf62f6"
      },
      "execution_count": null,
      "outputs": [
        {
          "output_type": "stream",
          "name": "stdout",
          "text": [
            "4/4 [==============================] - 10s 2s/step - loss: 6.6305 - accuracy: 0.4915\n",
            "Testing: accuracy = 0.491525  ;  loss = 6.630476\n"
          ]
        }
      ]
    }
  ]
}